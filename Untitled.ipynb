{
 "cells": [
  {
   "cell_type": "markdown",
   "id": "1c9872f7",
   "metadata": {
    "slideshow": {
     "slide_type": "-"
    }
   },
   "source": [
    "# Setting Up Libraries"
   ]
  },
  {
   "cell_type": "code",
   "execution_count": 2,
   "id": "f12d0995",
   "metadata": {},
   "outputs": [],
   "source": [
    "from sklearn.naive_bayes import MultinomialNB\n",
    "from sklearn.feature_extraction.text import TfidfVectorizer\n",
    "from sklearn.metrics import accuracy_score\n",
    "from sklearn.model_selection import train_test_split\n",
    "import pandas as pd"
   ]
  },
  {
   "cell_type": "markdown",
   "id": "2bff2c46",
   "metadata": {},
   "source": [
    "## Setting Up Training Data"
   ]
  },
  {
   "cell_type": "code",
   "execution_count": 6,
   "id": "917f4f68",
   "metadata": {},
   "outputs": [],
   "source": [
    "train_data = [\n",
    "    ('What course offer?','course_title'),\n",
    "    ('What is the program overview?', 'program_overview'),\n",
    "    ('How much is the course fee?', 'course_fee'),\n",
    "    ('Where is the campus located?', 'campus_location'),\n",
    "    ('When does the course intake start?', 'course_intake'),\n",
    "    ('How long is the course duration?', 'course_duration'),\n",
    "    ('Which campus offer this course?','campus_location','course_title'),\n",
    "    ('Where is the Computer Science course located?', 'course_location'),\n",
    "    ('What is the title of the Business Administration course?', 'course_title'),\n",
    "    ('Can you provide an overview of the Nursing program?', 'program_overview'),\n",
    "    ('What is the intake period for the Marketing course?', 'course_intake'),\n",
    "    ('How long is the Engineering course duration?', 'course_duration'),\n",
    "    ('What is the location of the Law School campus?', 'campus_location'),\n",
    "    ('What is the fee for the Psychology course?', 'course_fee'),\n",
    "    ('What is the duration of the Graphic Design course?', 'course_duration'),\n",
    "    ('What is the Computer Engineering program about?', 'program_overview'),\n",
    "    ('What is the fee for the Accounting course?', 'course_fee'),\n",
    "    ('Which campus offers the Civil Engineering program?', 'campus_location'),\n",
    "    ('What is the intake period for the Marketing course?', 'course_intake'),\n",
    "    ('Where is the Fine Arts course located?', 'course_location'),\n",
    "    ('What is the course title of the Mathematics program?', 'course_title'),   \n",
    "    ('What is the duration of the Architecture course?', 'course_duration'),\n",
    "    ('What is the fee for the Information Technology course?', 'course_fee'),\n",
    "    ('Can you provide an overview of the Chemistry program?', 'program_overview'),\n",
    "    ('What is the location of the Biology campus?', 'campus_location'),\n",
    "    ('What is the course title of the Journalism program?', 'course_title'),\n",
    "    ('What is the intake period for the Public Relations course?', 'course_intake'),\n",
    "    ('Where is the Physics course located?', 'course_location')\n",
    "]\n",
    "\n",
    "x = [i[0] for i in train_data]\n",
    "y = [i[1] for i in train_data]"
   ]
  },
  {
   "cell_type": "markdown",
   "id": "5ca81b0b",
   "metadata": {},
   "source": [
    "## Split Data into Training and Testing Sets"
   ]
  },
  {
   "cell_type": "code",
   "execution_count": 7,
   "id": "98db74c2",
   "metadata": {},
   "outputs": [],
   "source": [
    "X_train, X_test, y_train, y_test = train_test_split(x,y, test_size=0.2,random_state=42)"
   ]
  },
  {
   "cell_type": "markdown",
   "id": "b7abe486",
   "metadata": {},
   "source": [
    "## Vectorize input data"
   ]
  },
  {
   "cell_type": "code",
   "execution_count": 9,
   "id": "f2952c42",
   "metadata": {},
   "outputs": [],
   "source": [
    "vectorizer = TfidfVectorizer()\n",
    "X_train_vec = vectorizer.fit_transform(X_train)\n",
    "X_test_vec = vectorizer.transform(X_test)"
   ]
  },
  {
   "cell_type": "markdown",
   "id": "2d2b7105",
   "metadata": {},
   "source": [
    "## Train Naive Bayes Model"
   ]
  },
  {
   "cell_type": "code",
   "execution_count": 10,
   "id": "4ec880bd",
   "metadata": {},
   "outputs": [
    {
     "data": {
      "text/plain": [
       "MultinomialNB()"
      ]
     },
     "execution_count": 10,
     "metadata": {},
     "output_type": "execute_result"
    }
   ],
   "source": [
    "clf = MultinomialNB()\n",
    "clf.fit(X_train_vec, y_train)"
   ]
  },
  {
   "cell_type": "markdown",
   "id": "1ed2922b",
   "metadata": {},
   "source": [
    "## Evaluate Naive Bayes Model "
   ]
  },
  {
   "cell_type": "code",
   "execution_count": 12,
   "id": "b6ae1508",
   "metadata": {},
   "outputs": [
    {
     "name": "stdout",
     "output_type": "stream",
     "text": [
      "Accuracy:  0.5\n"
     ]
    }
   ],
   "source": [
    "y_pred = clf.predict(X_test_vec)\n",
    "acc = accuracy_score(y_test,y_pred)\n",
    "print(\"Accuracy: \", acc)"
   ]
  },
  {
   "cell_type": "markdown",
   "id": "dbed94b9",
   "metadata": {},
   "source": [
    "## Use Naive Bayes Model for prediction"
   ]
  },
  {
   "cell_type": "code",
   "execution_count": 13,
   "id": "449e8eb7",
   "metadata": {},
   "outputs": [
    {
     "name": "stdout",
     "output_type": "stream",
     "text": [
      "User intent:  course_fee\n"
     ]
    }
   ],
   "source": [
    "user_input = \"How much is the fee for software engineering?\"\n",
    "user_input_vec = vectorizer.transform([user_input])\n",
    "intent = clf.predict(user_input_vec)\n",
    "print(\"User intent: \", intent[0])"
   ]
  }
 ],
 "metadata": {
  "kernelspec": {
   "display_name": "Python 3 (ipykernel)",
   "language": "python",
   "name": "python3"
  },
  "language_info": {
   "codemirror_mode": {
    "name": "ipython",
    "version": 3
   },
   "file_extension": ".py",
   "mimetype": "text/x-python",
   "name": "python",
   "nbconvert_exporter": "python",
   "pygments_lexer": "ipython3",
   "version": "3.9.13"
  }
 },
 "nbformat": 4,
 "nbformat_minor": 5
}
